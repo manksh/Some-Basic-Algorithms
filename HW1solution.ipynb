{
 "cells": [
  {
   "cell_type": "markdown",
   "metadata": {},
   "source": [
    "# Connected Components\n",
    "\n",
    "The purpose of this assignment is to familiarize yourself with the handling of graph data structures. You will implement depth-first search for identifying the connected components of an undirected graph, implementing procedure Search as a subroutine along the way.\n",
    "\n",
    "You will use the [NetworkX](https://networkx.github.io/) Python package to represent and manipulate graphs. You should first familiarize yourself with its functionality by going through the brief [tutorial](http://networkx.github.io/documentation/networkx-1.9.1/tutorial/index.html). For this homework, you may only use the basic undirected graph methods listed [here](http://networkx.github.io/documentation/networkx-1.9.1/reference/classes.graph.html).\n",
    "\n",
    "As a use case, we will work with a dataset recording the interactions between characters in Homer's *Iliad*."
   ]
  },
  {
   "cell_type": "code",
   "execution_count": 12,
   "metadata": {
    "collapsed": true
   },
   "outputs": [],
   "source": [
    "import networkx\n",
    "import urllib2\n",
    "homer = urllib2.urlopen('http://people.sc.fsu.edu/~jburkardt/datasets/sgb/homer.dat')"
   ]
  },
  {
   "cell_type": "markdown",
   "metadata": {},
   "source": [
    "The format of the data is straightforward. After some comment lines (beginning with \\*), the file lists a codename for each character (i.e., node of the graph), followed by a description. The file then lists the groups of characters that interact in each chapter, from which you will form the edges. For instance, the first line has the form:\n",
    "\n",
    "```1:CH,AG,ME,GS;AP,CH;HE,AC;AC,AG,CA;HE,AT;AT,AC;AT,OG;NE,AG,AC;CS,OD```\n",
    "\n",
    "This means that CH,AG,ME,GS interacted, so there are edges for all pairs of these nodes. Groups of characters that interacted are separated by semicolons. The lines start with chapter information of the form `1:` or `&:`, which can be ignored for this problem."
   ]
  },
  {
   "cell_type": "markdown",
   "metadata": {},
   "source": [
    "First implement a function to read in the nodes from the input file. You may implement any auxiliary functions as needed, and are encouraged to use small functions with specific purposes to keep your code readable. Any function you implement should be clearly commented."
   ]
  },
  {
   "cell_type": "code",
   "execution_count": 13,
   "metadata": {
    "collapsed": true
   },
   "outputs": [],
   "source": [
    "def read_nodes(gfile):\n",
    "    \"\"\"Reads in the nodes of the graph from the input file.\n",
    "    \n",
    "    Args:\n",
    "        gfile: A handle for the file containing the graph data, starting at the top.\n",
    "        \n",
    "    Returns:\n",
    "        A generator of the nodes in the graph, yielding a list of the form:\n",
    "            ['CH', 'AG, 'ME', ...]\n",
    "            \n",
    "    \"\"\"\n",
    "    nodes = [] # Initialising \n",
    "    line = gfile.readline() # Initializing\n",
    "    while line != '\\n':             \n",
    "        line = gfile.readline() # loop to read all lines until the edges\n",
    "        if line[0] == '*':                       \n",
    "            continue\n",
    "        else:\n",
    "            nodes.append(line.split(' ')[0]) # Appending the 'nodes' list \n",
    "    nodes.remove('\\n')          \n",
    "    return sorted(nodes)\n",
    "    # TODO: implement function\n",
    "    pass\n"
   ]
  },
  {
   "cell_type": "markdown",
   "metadata": {},
   "source": [
    "Next implement a function to read in the edges from the input file."
   ]
  },
  {
   "cell_type": "code",
   "execution_count": 14,
   "metadata": {
    "collapsed": true
   },
   "outputs": [],
   "source": [
    "def read_edges(gfile):\n",
    "    \"\"\"Reads in the edges of the graph from the input file.\n",
    "    \n",
    "    Args:\n",
    "        gfile: A handle for the file containing the graph data, starting at the top \n",
    "            of the edges section.\n",
    "            \n",
    "    Returns:\n",
    "        A generator of the edges in the graph, yielding a list of pairs of the form:\n",
    "            [('CH', 'AG'), ('AG', 'ME'), ...]\n",
    "    \"\"\"\n",
    "    def combinations(array):  # Function to calculate combinations of size 2 to get edges\n",
    "        combi = []\n",
    "        for element in array:\n",
    "            split_elements = element.split(',')\n",
    "            for k in range(0,len(split_elements)):\n",
    "                for l in range(k+1,len(split_elements)):\n",
    "                    combi.append((split_elements[k],split_elements[l]))\n",
    "        return combi \n",
    "    \n",
    "    edges = [] # Initializing the array\n",
    "    string = gfile.readline() # Read rest of the lines from the File\n",
    "    while string[0] != '*': # For every line until the last one, we split by ':' and ';'.\n",
    "        edges.append(string.split(':')[1][:-1].split(';')) \n",
    "        string = gfile.readline()  # Incrementing the line\n",
    "        \n",
    "    edges = sum(edges, [])  # Convert 'list of a list' to a 'list' to make combinations.\n",
    "    \n",
    "    return combinations(edges)  #Returns the edges\n",
    "        # TODO: implement function\n",
    "    pass\n",
    "        "
   ]
  },
  {
   "cell_type": "markdown",
   "metadata": {},
   "source": [
    "The following code should now correctly create the graph."
   ]
  },
  {
   "cell_type": "code",
   "execution_count": 15,
   "metadata": {
    "collapsed": true
   },
   "outputs": [],
   "source": [
    "import networkx as nx\n",
    "G = nx.Graph()\n",
    "G.add_nodes_from(read_nodes(homer))\n",
    "G.add_edges_from(read_edges(homer))"
   ]
  },
  {
   "cell_type": "markdown",
   "metadata": {},
   "source": [
    "Next implement procedure Search. The function takes in a graph and a root node, and returns a list of the nodes visited during the search. The nodes should appear in the order in which they were *first visited*. The neighbors of a node should be processed in *alphabetical order*, where numbers come before letters. This will ensure that the output of your function is uniquely defined, given any input node."
   ]
  },
  {
   "cell_type": "code",
   "execution_count": 16,
   "metadata": {
    "collapsed": true
   },
   "outputs": [],
   "source": [
    "def Search(graph, root):\n",
    "    \"\"\"Runs depth-first search through a graph, starting at a given root. Neighboring\n",
    "    nodes are processed in alphabetical order.\n",
    "    \n",
    "    Args:\n",
    "        graph: the given graph, with nodes encoded as strings.\n",
    "        root: the node from which to start the search.\n",
    "        \n",
    "    Returns:\n",
    "        A list of nodes in the order in which they were first visited.\n",
    "    \"\"\"\n",
    "    stack = [root]  # We first put the root element in the stack\n",
    "    parent = []  # Initializing the parent list as an empty list\n",
    "    while stack:\n",
    "        vertex = stack.pop() # Getting the last element of the stack(LIFO)\n",
    "        if vertex not in parent:\n",
    "            parent.append(vertex)  # Putting that element in the parent list\n",
    "            for child in graph[vertex]: # Finding children of the node\n",
    "                stack.append(child) # appending the children to the stack\n",
    "\n",
    "    return parent                           \n",
    "    \n",
    "        # TODO: implement function\n",
    "    pass"
   ]
  },
  {
   "cell_type": "markdown",
   "metadata": {},
   "source": [
    "We will check the correctness of your code by verifying that it correctly computes the DFS tree starting at Ulysses (node `OD`)."
   ]
  },
  {
   "cell_type": "code",
   "execution_count": 17,
   "metadata": {
    "collapsed": true
   },
   "outputs": [],
   "source": [
    "ulysses = Search(G,'OD')"
   ]
  },
  {
   "cell_type": "markdown",
   "metadata": {},
   "source": [
    "Next implement DFS to find the connected components of the character graph. When choosing roots for your components, always pick the *smallest unvisited node* according to alphabetical ordering. Combined with your Search routine, this will ensure that the output is again uniquely defined."
   ]
  },
  {
   "cell_type": "code",
   "execution_count": 9,
   "metadata": {
    "collapsed": true
   },
   "outputs": [],
   "source": [
    "def connected_components(graph):\n",
    "    \"\"\"Computes the connected components of the given graph.\n",
    "    \n",
    "    Args: \n",
    "        graph: the given graph, with nodes encoded as strings.\n",
    "        \n",
    "    Returns:\n",
    "        The connected components of the graph. Components are listed in\n",
    "        alphabetical order of their root nodes.\n",
    "    \"\"\"\n",
    "    new = list(graph.nodes()) # List of all unvisited or 'new' nodes\n",
    "    new.sort()  # Sorting to get the output desired\n",
    "    connect_components = [] # Initializing\n",
    "    while len(new) > 0: # This loop calls the 'Search' function on all nodes of the graph.\n",
    "                                                 \n",
    "            \n",
    "            visit = Search(graph, new[0])   # Search the Graph starting at the first node\n",
    "            \n",
    "            connect_components.append(visit) # Add all the connected nodes in a list\n",
    "        \n",
    "            remain = list(set(new) - set(visit))  # Remove the visited 'new' nodes as \n",
    "                                                  # they are not new anymore.\n",
    "                \n",
    "            remain.sort()  # Sort the remaining nodes\n",
    "            new = remain # Store these remaining values in new\n",
    "                              \n",
    "    return connect_components\n",
    "\n",
    "    # TODO: implement function\n",
    "    pass"
   ]
  },
  {
   "cell_type": "markdown",
   "metadata": {},
   "source": [
    "We will check correctness of your code by verifying that your output list is identical to our solution."
   ]
  },
  {
   "cell_type": "code",
   "execution_count": 10,
   "metadata": {
    "collapsed": true
   },
   "outputs": [],
   "source": [
    "character_interactions = connected_components(G)"
   ]
  },
  {
   "cell_type": "markdown",
   "metadata": {},
   "source": [
    "As a preliminary check, you should find that the following statements are all true."
   ]
  },
  {
   "cell_type": "code",
   "execution_count": 11,
   "metadata": {},
   "outputs": [
    {
     "name": "stdout",
     "output_type": "stream",
     "text": [
      "There are 12 connected components in the Iliad: True\n",
      "The giant component has size 542: True\n",
      "There are 5 isolated characters: True\n"
     ]
    }
   ],
   "source": [
    "component_sizes = [len(c) for c in character_interactions]\n",
    "print \"There are 12 connected components in the Iliad:\", len(component_sizes) == 12\n",
    "print \"The giant component has size 542:\", max(component_sizes) == 542\n",
    "print \"There are 5 isolated characters:\", len([c for c in component_sizes if c == 1]) == 5"
   ]
  },
  {
   "cell_type": "code",
   "execution_count": null,
   "metadata": {
    "collapsed": true
   },
   "outputs": [],
   "source": []
  }
 ],
 "metadata": {
  "kernelspec": {
   "display_name": "Python 2",
   "language": "python",
   "name": "python2"
  },
  "language_info": {
   "codemirror_mode": {
    "name": "ipython",
    "version": 2
   },
   "file_extension": ".py",
   "mimetype": "text/x-python",
   "name": "python",
   "nbconvert_exporter": "python",
   "pygments_lexer": "ipython2",
   "version": "2.7.13"
  }
 },
 "nbformat": 4,
 "nbformat_minor": 1
}
